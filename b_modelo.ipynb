{
 "cells": [
  {
   "cell_type": "code",
   "execution_count": 1,
   "metadata": {},
   "outputs": [
    {
     "name": "stdout",
     "output_type": "stream",
     "text": [
      "Defaulting to user installation because normal site-packages is not writeable\n",
      "Requirement already satisfied: xgboost in c:\\users\\cesar\\appdata\\roaming\\python\\python310\\site-packages (2.0.3)\n",
      "Requirement already satisfied: numpy in c:\\users\\cesar\\appdata\\roaming\\python\\python310\\site-packages (from xgboost) (1.25.2)\n",
      "Requirement already satisfied: scipy in c:\\users\\cesar\\appdata\\roaming\\python\\python310\\site-packages (from xgboost) (1.11.2)\n",
      "Note: you may need to restart the kernel to use updated packages.\n",
      "Defaulting to user installation because normal site-packages is not writeable\n",
      "Requirement already satisfied: import_ipynb in c:\\users\\cesar\\appdata\\roaming\\python\\python310\\site-packages (0.1.4)\n",
      "Requirement already satisfied: IPython in c:\\users\\cesar\\appdata\\roaming\\python\\python310\\site-packages (from import_ipynb) (8.2.0)\n",
      "Requirement already satisfied: nbformat in c:\\users\\cesar\\appdata\\roaming\\python\\python310\\site-packages (from import_ipynb) (5.3.0)\n",
      "Requirement already satisfied: backcall in c:\\users\\cesar\\appdata\\roaming\\python\\python310\\site-packages (from IPython->import_ipynb) (0.2.0)\n",
      "Requirement already satisfied: decorator in c:\\users\\cesar\\appdata\\roaming\\python\\python310\\site-packages (from IPython->import_ipynb) (5.1.1)\n",
      "Requirement already satisfied: jedi>=0.16 in c:\\users\\cesar\\appdata\\roaming\\python\\python310\\site-packages (from IPython->import_ipynb) (0.18.1)\n",
      "Requirement already satisfied: matplotlib-inline in c:\\users\\cesar\\appdata\\roaming\\python\\python310\\site-packages (from IPython->import_ipynb) (0.1.3)\n",
      "Requirement already satisfied: pickleshare in c:\\users\\cesar\\appdata\\roaming\\python\\python310\\site-packages (from IPython->import_ipynb) (0.7.5)\n",
      "Requirement already satisfied: prompt-toolkit!=3.0.0,!=3.0.1,<3.1.0,>=2.0.0 in c:\\users\\cesar\\appdata\\roaming\\python\\python310\\site-packages (from IPython->import_ipynb) (3.0.29)\n",
      "Requirement already satisfied: pygments>=2.4.0 in c:\\users\\cesar\\appdata\\roaming\\python\\python310\\site-packages (from IPython->import_ipynb) (2.11.2)\n",
      "Requirement already satisfied: setuptools>=18.5 in c:\\users\\cesar\\appdata\\roaming\\python\\python310\\site-packages (from IPython->import_ipynb) (69.2.0)\n",
      "Requirement already satisfied: stack-data in c:\\users\\cesar\\appdata\\roaming\\python\\python310\\site-packages (from IPython->import_ipynb) (0.2.0)\n",
      "Requirement already satisfied: traitlets>=5 in c:\\users\\cesar\\appdata\\roaming\\python\\python310\\site-packages (from IPython->import_ipynb) (5.1.1)\n",
      "Requirement already satisfied: colorama in c:\\users\\cesar\\appdata\\roaming\\python\\python310\\site-packages (from IPython->import_ipynb) (0.4.4)\n",
      "Requirement already satisfied: jsonschema>=2.6 in c:\\users\\cesar\\appdata\\roaming\\python\\python310\\site-packages (from nbformat->import_ipynb) (4.4.0)\n",
      "Requirement already satisfied: jupyter-core in c:\\users\\cesar\\appdata\\roaming\\python\\python310\\site-packages (from nbformat->import_ipynb) (4.10.0)\n",
      "Requirement already satisfied: fastjsonschema in c:\\users\\cesar\\appdata\\roaming\\python\\python310\\site-packages (from nbformat->import_ipynb) (2.15.3)\n",
      "Requirement already satisfied: parso<0.9.0,>=0.8.0 in c:\\users\\cesar\\appdata\\roaming\\python\\python310\\site-packages (from jedi>=0.16->IPython->import_ipynb) (0.8.3)\n",
      "Requirement already satisfied: attrs>=17.4.0 in c:\\users\\cesar\\appdata\\roaming\\python\\python310\\site-packages (from jsonschema>=2.6->nbformat->import_ipynb) (21.4.0)\n",
      "Requirement already satisfied: pyrsistent!=0.17.0,!=0.17.1,!=0.17.2,>=0.14.0 in c:\\users\\cesar\\appdata\\roaming\\python\\python310\\site-packages (from jsonschema>=2.6->nbformat->import_ipynb) (0.18.1)\n",
      "Requirement already satisfied: wcwidth in c:\\users\\cesar\\appdata\\roaming\\python\\python310\\site-packages (from prompt-toolkit!=3.0.0,!=3.0.1,<3.1.0,>=2.0.0->IPython->import_ipynb) (0.2.5)\n",
      "Requirement already satisfied: pywin32>=1.0 in c:\\users\\cesar\\appdata\\roaming\\python\\python310\\site-packages (from jupyter-core->nbformat->import_ipynb) (303)\n",
      "Requirement already satisfied: executing in c:\\users\\cesar\\appdata\\roaming\\python\\python310\\site-packages (from stack-data->IPython->import_ipynb) (0.8.3)\n",
      "Requirement already satisfied: asttokens in c:\\users\\cesar\\appdata\\roaming\\python\\python310\\site-packages (from stack-data->IPython->import_ipynb) (2.0.5)\n",
      "Requirement already satisfied: pure-eval in c:\\users\\cesar\\appdata\\roaming\\python\\python310\\site-packages (from stack-data->IPython->import_ipynb) (0.2.2)\n",
      "Requirement already satisfied: six in c:\\users\\cesar\\appdata\\roaming\\python\\python310\\site-packages (from asttokens->stack-data->IPython->import_ipynb) (1.16.0)\n",
      "Defaulting to user installation because normal site-packages is not writeable\n",
      "Requirement already satisfied: openpyxl in c:\\users\\cesar\\appdata\\roaming\\python\\python310\\site-packages (3.1.2)\n",
      "Requirement already satisfied: et-xmlfile in c:\\users\\cesar\\appdata\\roaming\\python\\python310\\site-packages (from openpyxl) (1.1.0)\n"
     ]
    }
   ],
   "source": [
    "# Instalamos librerias que podriamos necesitar\n",
    "%pip install xgboost\n",
    "!pip install import_ipynb\n",
    "!pip install openpyxl"
   ]
  },
  {
   "cell_type": "code",
   "execution_count": 2,
   "metadata": {},
   "outputs": [],
   "source": [
    "##Librerías\n",
    "\n",
    "import pandas as pd\n",
    "import numpy as np\n",
    "import plotly as px\n",
    "import matplotlib.pyplot as plt\n",
    "import seaborn as sns\n",
    "import sqlite3 as sql\n",
    "from sklearn.impute import SimpleImputer\n",
    "from sklearn.compose import ColumnTransformer\n",
    "from sklearn.preprocessing import OneHotEncoder, StandardScaler, LabelEncoder\n",
    "from sklearn.linear_model import LinearRegression, Ridge, RidgeCV, Lasso\n",
    "from sklearn.model_selection import train_test_split\n",
    "from sklearn.metrics import mean_absolute_error, mean_squared_error, r2_score\n",
    "from sklearn.linear_model import LogisticRegression, Lasso\n",
    "from sklearn.metrics import f1_score, accuracy_score, confusion_matrix, ConfusionMatrixDisplay, roc_curve, auc, f1_score\n",
    "from sklearn.feature_selection import SelectFromModel\n",
    "from sklearn import datasets\n",
    "from sklearn import tree\n",
    "from sklearn import metrics\n",
    "from sklearn import linear_model\n",
    "from sklearn.model_selection import GridSearchCV\n",
    "from sklearn.tree import plot_tree\n",
    "from sklearn.model_selection import RandomizedSearchCV\n",
    "from sklearn.ensemble import RandomForestClassifier\n",
    "import plotly.express as px\n",
    "from sklearn.ensemble import GradientBoostingClassifier\n",
    "from xgboost import XGBRegressor\n",
    "import import_ipynb\n",
    "from sklearn.model_selection import cross_val_score\n",
    "from sklearn import linear_model, tree\n",
    "from sklearn.ensemble import RandomForestRegressor, GradientBoostingRegressor, RandomForestClassifier, GradientBoostingClassifier\n",
    "from sklearn.model_selection import cross_val_predict, cross_val_score, cross_validate, RandomizedSearchCV, GridSearchCV, train_test_split\n",
    "from sklearn.metrics import mean_squared_error, get_scorer_names, accuracy_score,confusion_matrix, ConfusionMatrixDisplay, f1_score\n",
    "from sklearn.tree import DecisionTreeClassifier, export_text, plot_tree\n",
    "from sklearn.linear_model import LogisticRegression\n",
    "from sklearn.neural_network import MLPClassifier\n",
    "from sklearn.preprocessing import StandardScaler ## escalar variables\n",
    "\n",
    "import joblib  ### para guardar modelos\n",
    "import openpyxl"
   ]
  },
  {
   "cell_type": "code",
   "execution_count": null,
   "metadata": {},
   "outputs": [],
   "source": [
    "#Importamos la base de datos\n",
    "df_final2 = pd.read_csv('https://raw.githubusercontent.com/veronica1908/RH_Entrega1/main/dfdataN.csv', sep=',')\n",
    "df2016"
   ]
  }
 ],
 "metadata": {
  "kernelspec": {
   "display_name": "Python 3",
   "language": "python",
   "name": "python3"
  },
  "language_info": {
   "codemirror_mode": {
    "name": "ipython",
    "version": 3
   },
   "file_extension": ".py",
   "mimetype": "text/x-python",
   "name": "python",
   "nbconvert_exporter": "python",
   "pygments_lexer": "ipython3",
   "version": "3.10.1"
  }
 },
 "nbformat": 4,
 "nbformat_minor": 2
}
